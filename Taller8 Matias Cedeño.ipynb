{
 "cells": [
  {
   "cell_type": "markdown",
   "metadata": {},
   "source": [
    "# Ejercicio 1 \n",
    "Una cadena de tiendas compra cierto tipo de dispositivo electrónico a un fabricante, el cual le indica que la tasa de dispositivos defectuosos es de 3%"
   ]
  },
  {
   "cell_type": "markdown",
   "metadata": {},
   "source": [
    "## Teórico\n",
    "ESTA EN EL PDF DEL GIT\n"
   ]
  },
  {
   "cell_type": "markdown",
   "metadata": {},
   "source": [
    "## a: Simulación\n",
    "El inspector de la cadena elige 20 artículos al azar de un cargamento, cuál es la probabilidad de qué haya al menos un artículo defectuoso entre estos 20?"
   ]
  },
  {
   "cell_type": "code",
   "execution_count": 1,
   "metadata": {},
   "outputs": [
    {
     "name": "stdout",
     "output_type": "stream",
     "text": [
      "La probabilidad de al menos un artículo sea defectuoso entre 20 artículos es: 0.4567\n"
     ]
    }
   ],
   "source": [
    "\n",
    "import random\n",
    "\n",
    "def dispositivos_defectuosos(num_simulaciones, num_articulos, tasa_defectuosos):\n",
    "    simulaciones_con_defectuosos = 0\n",
    "\n",
    "    for _ in range(num_simulaciones):\n",
    "        articulos = [random.random() < tasa_defectuosos for _ in range(num_articulos)]\n",
    "        if any(articulos):\n",
    "            simulaciones_con_defectuosos += 1\n",
    "    probabilidad = simulaciones_con_defectuosos / num_simulaciones\n",
    "    return probabilidad\n",
    "\n",
    "num_simulaciones = 1000000  \n",
    "num_articulos = 20         \n",
    "tasa_defectuosos = 0.03    \n",
    "\n",
    "probabilidad = dispositivos_defectuosos(num_simulaciones, num_articulos, tasa_defectuosos)\n",
    "\n",
    "print(f\"La probabilidad de al menos un artículo sea defectuoso entre {num_articulos} artículos es: {probabilidad:.4f}\")"
   ]
  },
  {
   "cell_type": "markdown",
   "metadata": {},
   "source": [
    "## b: Simulación\n",
    "Suponga que el detallista recibe 10 cargamentos en un mes y que el inspector prueba aleatoriamente 20 dispositivos por cargamento, cuál es la probabilidad de que haya exactamente tres cargamentos que contengan al menos un dispositivo defectuoso de entre los 20 seleccionados y probados?\n"
   ]
  },
  {
   "cell_type": "code",
   "execution_count": 7,
   "metadata": {},
   "outputs": [
    {
     "name": "stdout",
     "output_type": "stream",
     "text": [
      "La probabilidad de que existan exactamente 3 cargamentos que contengan al menos 1 dispositivo defectuoso entre 20 seleccionados es:  0.16028\n"
     ]
    }
   ],
   "source": [
    "import numpy as np\n",
    "\n",
    "p = 0.4562\n",
    "num_simulaciones = 100000\n",
    "\n",
    "exito = 0\n",
    "for i in range(num_simulaciones):\n",
    "   items = np.random.rand(10) < p\n",
    "   if np.sum(items*1) == 3:\n",
    "       exito += 1\n",
    "print(\"La probabilidad de que existan exactamente 3 cargamentos que contengan al menos 1 dispositivo defectuoso entre 20 seleccionados es: \",exito/num_simulaciones)\n"
   ]
  },
  {
   "cell_type": "markdown",
   "metadata": {},
   "source": [
    "# Ejercicio 2\n",
    "Lotes con 40 componentes donde cada uno contenga 3 o más componentes defectuosos se consideran inaceptables. El procedimiento para obtener muestras del lote consiste en seleccionar 5 componentes al azar y rechazar el lote si se encuentra un componente defectuoso. Cuál es la probabilidad de que en la muestra, se encuentre exactamente un componente defectuoso, si en todo el lote hay 3 defectuosos?"
   ]
  },
  {
   "cell_type": "markdown",
   "metadata": {},
   "source": [
    "## Teórico\n",
    "ESTA EN EL GIT EL PDF"
   ]
  },
  {
   "cell_type": "markdown",
   "metadata": {},
   "source": [
    "## Simulación"
   ]
  },
  {
   "cell_type": "code",
   "execution_count": 8,
   "metadata": {},
   "outputs": [
    {
     "name": "stdout",
     "output_type": "stream",
     "text": [
      "La probabilidad de que en la muestra 1 compnente sea defectuoso si en todo el lote hay 3 defectuosos es:  0.30142\n"
     ]
    }
   ],
   "source": [
    "import random\n",
    "\n",
    "def experimento():\n",
    "    lote = [0] * 37 + [1] * 3  # 0 = componente no defectuoso, 1 = componente defectuoso\n",
    "    muestra = random.sample(lote, 5)\n",
    "    defectuosos_en_muestra = sum(muestra)\n",
    "    return 1 if defectuosos_en_muestra == 1 else 0\n",
    "\n",
    "num_experimentos = 100000\n",
    "num_exitosos = sum(experimento() for _ in range(num_experimentos))\n",
    "probabilidad = num_exitosos / num_experimentos\n",
    "\n",
    "print(\"La probabilidad de que en la muestra 1 compnente sea defectuoso si en todo el lote hay 3 defectuosos es: \", probabilidad)\n"
   ]
  },
  {
   "cell_type": "markdown",
   "metadata": {},
   "source": [
    "# Ejercicio 3\n",
    "En un río en particular, las inundaciones por desbordamiento ocurren en promedio una vez cada 100 años. Calcule la probabilidad de k = 0, 1, 2, 3, 4, 5, 6 inundaciones por desbordamiento en un intervalo de 100 años, suponiendo que el modelo de Poisson es apropiado."
   ]
  },
  {
   "cell_type": "markdown",
   "metadata": {},
   "source": [
    "## Teórico\n",
    "ESTA EN EL PDF EL GIT"
   ]
  },
  {
   "cell_type": "markdown",
   "metadata": {},
   "source": [
    "## Simulación"
   ]
  },
  {
   "cell_type": "code",
   "execution_count": 13,
   "metadata": {},
   "outputs": [
    {
     "name": "stdout",
     "output_type": "stream",
     "text": [
      "Probabilidad de 0 inundaciones: 0.3681\n",
      "Probabilidad de 1 inundaciones: 0.3685\n",
      "Probabilidad de 2 inundaciones: 0.1834\n",
      "Probabilidad de 3 inundaciones: 0.0604\n",
      "Probabilidad de 4 inundaciones: 0.0156\n",
      "Probabilidad de 5 inundaciones: 0.0034\n",
      "Probabilidad de 6 inundaciones: 0.0005\n"
     ]
    }
   ],
   "source": [
    "import numpy as np\n",
    "\n",
    "promedio_inundaciones = 1 / 100  \n",
    "repeticiones = 100000  \n",
    "\n",
    "resultados = []\n",
    "\n",
    "for _ in range(repeticiones):\n",
    "    inundaciones_simuladas = np.random.poisson(lam=promedio_inundaciones * 100)\n",
    "    resultados.append(inundaciones_simuladas)\n",
    "\n",
    "probabilidades = []\n",
    "for k in range(7):\n",
    "    prob_k = sum(1 for result in resultados if result == k) / repeticiones\n",
    "    probabilidades.append(prob_k)\n",
    "\n",
    "for k, prob_k in enumerate(probabilidades):\n",
    "    print(f\"Probabilidad de {k} inundaciones: {prob_k:.4f}\")\n"
   ]
  },
  {
   "cell_type": "markdown",
   "metadata": {},
   "source": [
    "# Ejercicio 4\n",
    "En “momentos ajetreados” un conmutador telefónico está muy cerca de su límite de capacidad, por lo que los usuarios tienen dificultad para hacer sus llamadas. Sería interesante saber cuantos intentos serían necesarios para conseguir un enlace telefónico. Suponga que la probabilidad de conseguir un enlace durante un momento ajetreado es p = 0.05. Nos interesa conocer la probabilidad de que se necesiten 5 intentos para enlazar con éxito una llamada."
   ]
  },
  {
   "cell_type": "markdown",
   "metadata": {},
   "source": [
    "## Teórico\n",
    "ESTA EN EL PDF EN EL GIT "
   ]
  },
  {
   "cell_type": "markdown",
   "metadata": {},
   "source": [
    "## Simulación"
   ]
  },
  {
   "cell_type": "code",
   "execution_count": 18,
   "metadata": {},
   "outputs": [
    {
     "name": "stdout",
     "output_type": "stream",
     "text": [
      "Probabilidad de necesitar 5 intentos para un enlace exitoso es: 0.0407\n"
     ]
    }
   ],
   "source": [
    "import random\n",
    "\n",
    "def simulacion_enlace_exitoso(probabilidad_exito, intentos):\n",
    "    for _ in range(intentos - 1):\n",
    "        if random.random() <= probabilidad_exito:\n",
    "            return 0\n",
    "    \n",
    "    return 1 if random.random() <= probabilidad_exito else 0\n",
    "\n",
    "def simulacion_varios_intentos(probabilidad_exito, intentos_simulacion, intentos_para_exito):\n",
    "    exitos = sum(simulacion_enlace_exitoso(probabilidad_exito, intentos_para_exito) for _ in range(intentos_simulacion))\n",
    "    probabilidad = exitos / intentos_simulacion\n",
    "    return probabilidad\n",
    "\n",
    "probabilidad_exito = 0.05\n",
    "intentos_simulacion = 100000 \n",
    "intentos_para_exito = 5\n",
    "\n",
    "\n",
    "probabilidad = simulacion_varios_intentos(probabilidad_exito, intentos_simulacion, intentos_para_exito)\n",
    "\n",
    "print(f\"Probabilidad de necesitar {intentos_para_exito} intentos para un enlace exitoso es: {probabilidad:.4f}\")\n"
   ]
  },
  {
   "cell_type": "markdown",
   "metadata": {},
   "source": [
    "# Ejercicio 5\n",
    "Una compañía petrolera realiza un estudio geológico que indica que una perforación petrolera exploratoria tiene un 20% de posibilidades de encontrar petróleo."
   ]
  },
  {
   "cell_type": "markdown",
   "metadata": {},
   "source": [
    "## Teórico\n",
    "ESTA EN EL GIT EL PDF"
   ]
  },
  {
   "cell_type": "markdown",
   "metadata": {},
   "source": [
    "## a: Simulación\n",
    "¿Cuál es la probabilidad de que el primer pozo se produzca en la tercer perforación?"
   ]
  },
  {
   "cell_type": "code",
   "execution_count": 19,
   "metadata": {},
   "outputs": [
    {
     "name": "stdout",
     "output_type": "stream",
     "text": [
      "La probabilidad de que el primer pozo se produzca en la tercera perforación es: : 0.1281\n"
     ]
    }
   ],
   "source": [
    "import random\n",
    "\n",
    "def simulacion_geometrica(p, objetivo, num_simulaciones):\n",
    "    exitos = 0\n",
    "    intentos_totales = 0\n",
    "\n",
    "    for _ in range(num_simulaciones):\n",
    "        intentos = 1\n",
    "        while random.random() > p:\n",
    "            intentos += 1\n",
    "        intentos_totales += intentos\n",
    "        if intentos == objetivo:\n",
    "            exitos += 1\n",
    "\n",
    "    probabilidad = exitos / num_simulaciones\n",
    "    media = intentos_totales / num_simulaciones\n",
    "\n",
    "    return probabilidad, media\n",
    "\n",
    "\n",
    "p = 0.2  \n",
    "objetivo = 3  \n",
    "num_simulaciones = 100000  \n",
    "\n",
    "probabilidad, media = simulacion_geometrica(p, objetivo, num_simulaciones)\n",
    "\n",
    "print(f\"La probabilidad de que el primer pozo se produzca en la tercera perforación es: : {probabilidad:.4f}\")\n",
    "\n"
   ]
  },
  {
   "cell_type": "markdown",
   "metadata": {},
   "source": [
    "## b: Simulación\n",
    "¿Cuál es la probabilidad de que el tercer pozo se produzca en la séptima perforación?"
   ]
  },
  {
   "cell_type": "code",
   "execution_count": 20,
   "metadata": {},
   "outputs": [
    {
     "name": "stdout",
     "output_type": "stream",
     "text": [
      "La probabiliad de que el tercer pozo se produzca en la séptima perforación es:  0.049029\n"
     ]
    }
   ],
   "source": [
    "import random\n",
    "\n",
    "num_simulations = 1000000\n",
    "probabilidad_exito = 0.20\n",
    "tercer_exito = 0\n",
    "\n",
    "for _ in range(num_simulations):\n",
    "    successes = 0\n",
    "    trials = 0\n",
    "    while successes < 3 and trials < 7:\n",
    "        if random.random() < probabilidad_exito:\n",
    "            successes += 1\n",
    "        trials += 1\n",
    "    if successes == 3 and trials == 7:\n",
    "        tercer_exito += 1\n",
    "\n",
    "print(\"La probabiliad de que el tercer pozo se produzca en la séptima perforación es: \", tercer_exito / num_simulations)"
   ]
  },
  {
   "cell_type": "markdown",
   "metadata": {},
   "source": [
    "## c: Simulación\n",
    "¿Cuál es la media y la varianza del número de pozos que se deben perforar si la compañía petrolera quiere establecer tres pozos productores?"
   ]
  },
  {
   "cell_type": "code",
   "execution_count": 22,
   "metadata": {},
   "outputs": [
    {
     "name": "stdout",
     "output_type": "stream",
     "text": [
      "Media del numero de posos para establecer 3 pozos productoers: 15.0019\n",
      "Varianza del numero de posos para establecer 3 pozos productoers: 59.6367\n"
     ]
    }
   ],
   "source": [
    "import numpy as np\n",
    "\n",
    "probabilidad_encontrar_petroleo = 0.2\n",
    "repeticiones = 10000\n",
    "pozos_objetivo = 3\n",
    "\n",
    "sumatoria_len = 0\n",
    "sumatoria_len_cuadrado = 0\n",
    "\n",
    "for _ in range(repeticiones):\n",
    "    cant_pozos = 0\n",
    "    pozos_perforados = 0\n",
    "\n",
    "    while cant_pozos < pozos_objetivo:\n",
    "        nuevo_pozo = np.random.choice([0, 1], p=[1 - probabilidad_encontrar_petroleo, probabilidad_encontrar_petroleo])\n",
    "        pozos_perforados += 1\n",
    "        cant_pozos += nuevo_pozo\n",
    "\n",
    "    sumatoria_len += pozos_perforados\n",
    "    sumatoria_len_cuadrado += pozos_perforados ** 2\n",
    "\n",
    "media = sumatoria_len / repeticiones\n",
    "varianza = (sumatoria_len_cuadrado / repeticiones) - (media ** 2)\n",
    "\n",
    "print(f\"Media del numero de posos para establecer 3 pozos productoers: {media:.4f}\")\n",
    "print(f\"Varianza del numero de posos para establecer 3 pozos productoers: {varianza:.4f}\")\n"
   ]
  }
 ],
 "metadata": {
  "kernelspec": {
   "display_name": "Python 3",
   "language": "python",
   "name": "python3"
  },
  "language_info": {
   "codemirror_mode": {
    "name": "ipython",
    "version": 3
   },
   "file_extension": ".py",
   "mimetype": "text/x-python",
   "name": "python",
   "nbconvert_exporter": "python",
   "pygments_lexer": "ipython3",
   "version": "3.11.7"
  }
 },
 "nbformat": 4,
 "nbformat_minor": 2
}
